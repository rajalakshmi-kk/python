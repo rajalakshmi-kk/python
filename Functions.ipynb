{
 "cells": [
  {
   "cell_type": "code",
   "execution_count": 1,
   "metadata": {},
   "outputs": [],
   "source": [
    "def say():\n",
    "    print(\"hello\")\n",
    "    print(\"who are you?\")"
   ]
  },
  {
   "cell_type": "code",
   "execution_count": 2,
   "metadata": {},
   "outputs": [
    {
     "name": "stdout",
     "output_type": "stream",
     "text": [
      "hello\n",
      "who are you?\n"
     ]
    }
   ],
   "source": [
    "say()"
   ]
  },
  {
   "cell_type": "code",
   "execution_count": 3,
   "metadata": {},
   "outputs": [],
   "source": [
    "def add(a,b):\n",
    "    c=a+b\n",
    "    print(c)"
   ]
  },
  {
   "cell_type": "code",
   "execution_count": 4,
   "metadata": {},
   "outputs": [
    {
     "name": "stdout",
     "output_type": "stream",
     "text": [
      "8\n"
     ]
    }
   ],
   "source": [
    "add(3,5)"
   ]
  },
  {
   "cell_type": "code",
   "execution_count": 5,
   "metadata": {},
   "outputs": [
    {
     "name": "stdout",
     "output_type": "stream",
     "text": [
      "1268304357\n"
     ]
    }
   ],
   "source": [
    "add(873548164,394756193)"
   ]
  },
  {
   "cell_type": "code",
   "execution_count": 12,
   "metadata": {},
   "outputs": [],
   "source": [
    "def add_sub(a,b):\n",
    "    c=a+b\n",
    "    d=a-b\n",
    "    return(c,d)\n",
    "\n",
    "result1,result2=add_sub(86,61)"
   ]
  },
  {
   "cell_type": "code",
   "execution_count": 13,
   "metadata": {},
   "outputs": [
    {
     "name": "stdout",
     "output_type": "stream",
     "text": [
      "147 25\n"
     ]
    }
   ],
   "source": [
    " print(result1,result2)"
   ]
  },
  {
   "cell_type": "code",
   "execution_count": 16,
   "metadata": {},
   "outputs": [
    {
     "name": "stdout",
     "output_type": "stream",
     "text": [
      "Inside Function: monday morning\n",
      "Outside Function: monday\n"
     ]
    }
   ],
   "source": [
    "# call by value\n",
    "string = \"monday\" \n",
    " \n",
    "def test(string):\n",
    "     \n",
    "    string = \"monday morning\"\n",
    "    print(\"Inside Function:\", string)\n",
    "     \n",
    "# Driver's code\n",
    "test(string)\n",
    "print(\"Outside Function:\", string)"
   ]
  },
  {
   "cell_type": "code",
   "execution_count": 18,
   "metadata": {},
   "outputs": [
    {
     "name": "stdout",
     "output_type": "stream",
     "text": [
      "Inside Function [10, 20, 30, 40, 50]\n",
      "Outside Function: [10, 20, 30, 40, 50]\n"
     ]
    }
   ],
   "source": [
    "# call by reference\n",
    "def add_more(list):\n",
    "    list.append(50)\n",
    "    print(\"Inside Function\", list)\n",
    " \n",
    "# Driver's code\n",
    "mylist = [10,20,30,40]\n",
    " \n",
    "add_more(mylist)\n",
    "print(\"Outside Function:\", mylist)"
   ]
  },
  {
   "cell_type": "code",
   "execution_count": 19,
   "metadata": {},
   "outputs": [
    {
     "name": "stdout",
     "output_type": "stream",
     "text": [
      "125\n",
      "125\n"
     ]
    }
   ],
   "source": [
    "def cube(y):\n",
    "    return y*y*y\n",
    " \n",
    "lambda_cube = lambda y: y*y*y\n",
    " \n",
    "# using the normally\n",
    "# defined function\n",
    "print(cube(5))\n",
    " \n",
    "# using the lambda function\n",
    "print(lambda_cube(5))"
   ]
  },
  {
   "cell_type": "code",
   "execution_count": 20,
   "metadata": {},
   "outputs": [
    {
     "name": "stdout",
     "output_type": "stream",
     "text": [
      "[90, 59, 21, 60]\n"
     ]
    }
   ],
   "source": [
    "# Python 3 code to people above 18 yrs\n",
    "ages = [13, 90, 17, 59, 21, 60, 5]\n",
    " \n",
    "adults = list(filter(lambda age: age>18, ages))\n",
    " \n",
    "print(adults)"
   ]
  },
  {
   "cell_type": "code",
   "execution_count": null,
   "metadata": {},
   "outputs": [],
   "source": []
  }
 ],
 "metadata": {
  "kernelspec": {
   "display_name": "Python 3",
   "language": "python",
   "name": "python3"
  },
  "language_info": {
   "codemirror_mode": {
    "name": "ipython",
    "version": 3
   },
   "file_extension": ".py",
   "mimetype": "text/x-python",
   "name": "python",
   "nbconvert_exporter": "python",
   "pygments_lexer": "ipython3",
   "version": "3.8.5"
  }
 },
 "nbformat": 4,
 "nbformat_minor": 4
}
